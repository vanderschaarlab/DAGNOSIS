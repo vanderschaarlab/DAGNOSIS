{
 "cells": [
  {
   "cell_type": "code",
   "execution_count": 1,
   "metadata": {},
   "outputs": [],
   "source": [
    "#!imports\n",
    "import sys\n",
    "from pathlib import Path\n",
    "\n",
    "PROJECT_ROOT = Path().resolve().parent.parent\n",
    "sys.path.append(str(PROJECT_ROOT))\n",
    "\n",
    "import warnings\n",
    "warnings.filterwarnings(\"ignore\")\n",
    "\n",
    "import seaborn as sns\n",
    "sns.set_theme()\n",
    "import numpy as np\n",
    "import random\n",
    "import torch\n",
    "\n",
    "from dagnosis.dag_learner.data import Data\n",
    "from dagnosis.conformal_prediction.representation import  representation_class_based\n",
    "from dagnosis.utils.dag import get_DAG, plot_graph\n",
    "from dagnosis.utils.conformal import train_cp, train_cp_pca\n",
    "from dagnosis.utils.utils import compute_TP, compute_TP_pca\n",
    "from dagnosis.utils.data import sample_corrupted\n",
    "\n",
    "\n",
    "np.random.seed(42)\n",
    "random.seed(42)\n",
    "torch.manual_seed(42)\n",
    "\n",
    "d = 4\n",
    "n_train = 1000\n",
    "n_test = 10000\n",
    "s = d-1\n",
    "\n",
    "sem_type = \"mlp\"\n",
    "graph_type = \"chain\"\n",
    "batch_size = n_train\n",
    "\n",
    "\n",
    "data_config_train={\n",
    "    \"dim\": d,\n",
    "    \"s0\": s, \n",
    "    \"n_train\": n_train,\n",
    "    \"n_test\": n_test,\n",
    "    \"sem_type\": sem_type,\n",
    "    \"dag_type\": graph_type,\n",
    "    \"batch_size\": batch_size,\n",
    "}\n",
    "\n",
    "\n",
    "\n",
    "D_train = Data(**data_config_train)\n",
    "D_train.setup()\n",
    "\n",
    "X_train, X_test_clean = D_train.train.dataset[D_train.train.indices][0].numpy(), D_train.test.dataset[D_train.test.indices][0].numpy()\n",
    "\n",
    "\n",
    "\n",
    "    "
   ]
  },
  {
   "cell_type": "code",
   "execution_count": 2,
   "metadata": {},
   "outputs": [
    {
     "data": {
      "image/png": "[encoded data removed]",
      "text/plain": [
       "<Figure size 640x480 with 1 Axes>"
      ]
     },
     "metadata": {},
     "output_type": "display_data"
    },
    {
     "name": "stderr",
     "output_type": "stream",
     "text": [
      "0it [00:00, ?it/s]"
     ]
    },
    {
     "name": "stdout",
     "output_type": "stream",
     "text": [
      "alpha: 0.025 cal_size: 0.2\n",
      "DAGNOSIS GT\n"
     ]
    },
    {
     "name": "stderr",
     "output_type": "stream",
     "text": [
      "4it [00:04,  1.17s/it]\n",
      "0it [00:00, ?it/s]"
     ]
    },
    {
     "name": "stdout",
     "output_type": "stream",
     "text": [
      "DATA SUITE\n"
     ]
    },
    {
     "name": "stderr",
     "output_type": "stream",
     "text": [
      "4it [00:03,  1.19it/s]\n"
     ]
    }
   ],
   "source": [
    "factor_pca = 2.\n",
    "confidence = 0.1 \n",
    "alpha = confidence/d\n",
    "cal_size = 0.2\n",
    "\n",
    "A_gt = get_DAG(D_train, \"gt\")\n",
    "plot_graph(D_train.DAG, 0)\n",
    "\n",
    "\n",
    "print(f\"alpha: {alpha} cal_size: {cal_size}\")\n",
    "\n",
    "#Using the ground-truth DAG for now\n",
    "\n",
    "##########################################\n",
    "#### DAGNOSIS GT #########################\n",
    "##########################################\n",
    "print(\"DAGNOSIS GT\")\n",
    "list_features = np.arange(d)\n",
    "list_conf_gt = train_cp(X_train, A_gt, list_features, alpha, cal_size)\n",
    "\n",
    "\n",
    "\n",
    "\n",
    "##########################################\n",
    "####### DATA-SUITE #######################\n",
    "##########################################\n",
    "print(\"DATA SUITE\")\n",
    "\n",
    "rep_dim = int(np.ceil(X_train.shape[1] / factor_pca))\n",
    "pca_train, _, pca, scaler =  representation_class_based(X_train, X_train, rep_dim, \"pca\")\n",
    "list_conf_pca = train_cp_pca(pca_train, X_train, list_features, alpha, cal_size)"
   ]
  },
  {
   "cell_type": "code",
   "execution_count": 3,
   "metadata": {},
   "outputs": [
    {
     "name": "stdout",
     "output_type": "stream",
     "text": [
      "Corrupted nodes: [3]\n"
     ]
    }
   ],
   "source": [
    "n_corrupted = 10000\n",
    "list_TPR_gain = []\n",
    "\n",
    "\n",
    "# only corrupt the last feature\n",
    "list_features_corruption = [d-1]\n",
    "list_corruption_type = [\"gaussian_noise\"]*len(list_features_corruption)\n",
    "\n",
    "print(\"Corrupted nodes: {}\".format(list_features_corruption))\n",
    "\n",
    "noise_mean_list = np.zeros(d)\n",
    "X_test_corrupted, list_corrupted_SEMs, list_corrupted_parameters =sample_corrupted(D_train, n_corrupted, list_features_corruption, list_corruption_type, noise_mean_list=noise_mean_list, sample_last_layer=False, std_mlp = 2, mean_mlp =0)\n",
    "\n",
    "_, conf_dict_gt = compute_TP(list_conf_gt, A_gt, X_test_corrupted)\n",
    "_, conf_dict_pca = compute_TP_pca(list_conf_pca, scaler,pca, X_test_corrupted)\n",
    "        \n"
   ]
  },
  {
   "cell_type": "code",
   "execution_count": 4,
   "metadata": {},
   "outputs": [
    {
     "name": "stdout",
     "output_type": "stream",
     "text": [
      "DAGNOSIS: On average, the inconsistent samples were flagged on 1.0498 features\n",
      "Std: 0.00452585857419341\n"
     ]
    }
   ],
   "source": [
    "# We compute, for each inconsistent samples, on how many features it was flagged\n",
    "n_indices_flagged_list_dn = []\n",
    "for row in range(len(X_test_corrupted)):\n",
    "    n_indices_flagged = 0\n",
    "    for feature in range(d):\n",
    "        if not (conf_dict_gt[feature].iloc[row][\"min\"] <= conf_dict_gt[feature].iloc[row][\"true_val\"] <= conf_dict_gt[feature].iloc[row][\"max\"]):\n",
    "            n_indices_flagged +=1\n",
    "    if n_indices_flagged >0:\n",
    "        #flagged at least on one feature\n",
    "        n_indices_flagged_list_dn.append(n_indices_flagged)\n",
    "print(f\"DAGNOSIS: On average, the inconsistent samples were flagged on {np.mean(n_indices_flagged_list_dn)} features\")\n",
    "print(f\"Std: {1.96*np.std(n_indices_flagged_list_dn)/np.sqrt(len(n_indices_flagged_list_dn))}\")\n",
    "\n",
    "        "
   ]
  },
  {
   "cell_type": "code",
   "execution_count": 5,
   "metadata": {},
   "outputs": [
    {
     "name": "stdout",
     "output_type": "stream",
     "text": [
      "Data-SUITE: On average, the inconsistent samples were flagged on 3.4761 features\n",
      "Std:0.014849878786252768\n"
     ]
    }
   ],
   "source": [
    "n_indices_flagged_list_datasuite = []\n",
    "for row in range(len(X_test_corrupted)):\n",
    "    n_indices_flagged = 0\n",
    "    for feature in range(d):\n",
    "        if not (conf_dict_pca[feature].iloc[row][\"min\"] <= conf_dict_pca[feature].iloc[row][\"true_val\"] <= conf_dict_pca[feature].iloc[row][\"max\"]):\n",
    "            n_indices_flagged +=1\n",
    "    if n_indices_flagged >0:\n",
    "        #flagged at least on one feature\n",
    "        n_indices_flagged_list_datasuite.append(n_indices_flagged)\n",
    "print(f\"Data-SUITE: On average, the inconsistent samples were flagged on {np.mean(n_indices_flagged_list_datasuite)} features\")\n",
    "print(f\"Std:{1.96*np.std(n_indices_flagged_list_datasuite)/np.sqrt(len(n_indices_flagged_list_datasuite))}\")"
   ]
  }
 ],
 "metadata": {
  "kernelspec": {
   "display_name": "dagnosis",
   "language": "python",
   "name": "python3"
  },
  "language_info": {
   "codemirror_mode": {
    "name": "ipython",
    "version": 3
   },
   "file_extension": ".py",
   "mimetype": "text/x-python",
   "name": "python",
   "nbconvert_exporter": "python",
   "pygments_lexer": "ipython3",
   "version": "3.7.15"
  }
 },
 "nbformat": 4,
 "nbformat_minor": 2
}
